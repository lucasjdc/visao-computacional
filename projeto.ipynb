{
 "cells": [
  {
   "cell_type": "code",
   "execution_count": null,
   "metadata": {},
   "outputs": [],
   "source": [
    "import cv2\n",
    "import mediapipe as mp\n",
    "import numpy as np\n",
    "import time"
   ]
  },
  {
   "cell_type": "code",
   "execution_count": null,
   "metadata": {},
   "outputs": [],
   "source": [
    "mp_drawing = mp.solutions.drawing_utils\n",
    "mp_face_mesh = mp.solutions.face_mesh"
   ]
  },
  {
   "cell_type": "markdown",
   "metadata": {},
   "source": [
    "Cálculo do EAR\n",
    "\n",
    "$$\n",
    "\n",
    "EAR = \\frac{||p_2 - p_6|| + ||p_3 - p_5||}{2||p_1 - p_4||}  \\quad \\text{[1]}\n",
    "\n",
    "$$"
   ]
  },
  {
   "cell_type": "code",
   "execution_count": null,
   "metadata": {},
   "outputs": [],
   "source": [
    "p_olho_esq = [385, 380, 387, 373, 362, 263]\n",
    "p_olho_dir = [160, 144, 158, 153, 33, 133]\n",
    "p_olhos = p_olho_esq + p_olho_dir"
   ]
  },
  {
   "cell_type": "markdown",
   "metadata": {},
   "source": [
    "$$\n",
    "\n",
    "EAR_{dir} = \\frac{||p_{160} - p_{144}|| + ||p_{158} - p_{153}||}{2||p_{33} - p_{133}||}\n",
    "\n",
    "$$\n",
    "\n",
    "$$\n",
    "\n",
    "EAR_{esq} = \\frac{||p_{385} - p_{380}|| + ||p_{387} - p_{373}||}{2||p_{362} - p_{263}||}\n",
    "\n",
    "$$"
   ]
  },
  {
   "cell_type": "code",
   "execution_count": null,
   "metadata": {},
   "outputs": [],
   "source": [
    "def calculo_ear(face, p_olho_dir, p_olho_esq):\n",
    "    try:\n",
    "        face = np.array([[coord.x, coord.y] for coord in face])\n",
    "        face_esq = face[p_olho_esq,:]\n",
    "        face_dir = face[p_olho_dir,:]\n",
    "\n",
    "        ear_esq = (np.linalg.norm(face_esq[0] - face_esq[1])+np.linalg.norm(face_esq[2]-face_esq[3])) / (2*(np.linalg.norm(face_esq[4] - face_esq[5])))\n",
    "        \n",
    "        ear_dir = (np.linalg.norm(face_dir[0] - face_dir[1])+np.linalg.norm(face_dir[2]-face_dir[3])) / (2*(np.linalg.norm(face_dir[4] - face_dir[5])))\n",
    "    except:\n",
    "        ear_esq = 0.0\n",
    "        ear_dir = 0.0\n",
    "    \n",
    "    media_ear = (ear_esq + ear_dir) / 2\n",
    "    return media_ear"
   ]
  },
  {
   "cell_type": "code",
   "execution_count": null,
   "metadata": {},
   "outputs": [],
   "source": [
    "p_boca = [82, 87, 13, 14, 312, 317, 78, 308]"
   ]
  },
  {
   "cell_type": "markdown",
   "metadata": {},
   "source": [
    "Cálculo do índice de MAR\n",
    "\n",
    "$$\n",
    "\n",
    "MAR = \\frac{||p_{82} - p_{87}|| + ||p_{13} - p_{14}|| + ||p_{312} - p_{317}||}{2||p_{78} - p_{308}||}\n",
    "\n",
    "$$"
   ]
  },
  {
   "cell_type": "code",
   "execution_count": null,
   "metadata": {},
   "outputs": [],
   "source": [
    "def calculo_mar(face, p_boca):\n",
    "    try:\n",
    "        face = np.array([[coord.x, coord.y] for coord in face])\n",
    "        face_boca = face[p_boca,:]\n",
    "\n",
    "        mar = (np.linalg.norm(face_boca[0]-face_boca[1]) + np.linalg.norm(face_boca[2]-face_boca[3]) +\n",
    "               np.linalg.norm(face_boca[4]-face_boca[5])) / (2*np.linalg.norm(face_boca[6]-face_boca[7]))\n",
    "    except:\n",
    "        mar = 0.0\n",
    "    return mar"
   ]
  },
  {
   "cell_type": "code",
   "execution_count": null,
   "metadata": {},
   "outputs": [],
   "source": [
    "# Função para abrir a primeira câmara disponível\n",
    "def open_camera():\n",
    "    for i in range(10):\n",
    "        cap = cv2.VideoCapture(i)\n",
    "        if cap.isOpened():\n",
    "            print(f\"Abrindo câmera no índice {i}\")\n",
    "            return cap\n",
    "    print(\"Nenhuma câmera encontrada.\")\n",
    "    return None"
   ]
  },
  {
   "cell_type": "code",
   "execution_count": null,
   "metadata": {},
   "outputs": [],
   "source": [
    "ear_limiar = 0.3\n",
    "mar_limiar = 0.1\n",
    "dormindo = 0\n",
    "contagem_piscadas = 0\n",
    "c_tempo= 0\n",
    "contagem_temporaria = 0\n",
    "contangem_lista = []\n",
    "\n",
    "t_piscadas = time.time()\n",
    "\n",
    "#cap = open_camera()\n",
    "cap = cv2.VideoCapture(2)  # Para selecionar uma câmera especifica\n",
    "\n",
    "with mp_face_mesh.FaceMesh(min_detection_confidence=0.5, min_tracking_confidence=0.5) as facemesh:\n",
    "    while cap.isOpened():\n",
    "        sucesso, frame = cap.read()\n",
    "        if not sucesso:\n",
    "            print('Ignorando o frame vazio da câmera.')\n",
    "            continue\n",
    "        comprimento, largura, _ = frame.shape\n",
    "        \n",
    "        frame = cv2.cvtColor(frame, cv2.COLOR_BGR2RGB)\n",
    "        saida_facemesh = facemesh.process(frame)\n",
    "        frame = cv2.cvtColor(frame, cv2.COLOR_RGB2BGR)\n",
    "\n",
    "        try:\n",
    "            for face_landmarks in saida_facemesh.multi_face_landmarks:\n",
    "                mp_drawing.draw_landmarks(frame, face_landmarks, mp_face_mesh.FACEMESH_CONTOURS,\n",
    "                    landmark_drawing_spec = mp_drawing.DrawingSpec(color=(255,102,102),thickness=1,circle_radius=1), # pontos\n",
    "                    connection_drawing_spec = mp_drawing.DrawingSpec(color=(102,204,0),thickness=1,circle_radius=1)) # linha\n",
    "                face = face_landmarks.landmark\n",
    "                for id_coord, coord_xyz in enumerate(face):\n",
    "                    if id_coord in p_olhos:\n",
    "                        coord_cv = mp_drawing._normalized_to_pixel_coordinates(coord_xyz.x,\n",
    "                        coord_xyz.y, largura, comprimento)\n",
    "                        cv2.circle(frame, coord_cv, 2, (255,0,0), -1)\n",
    "                    \n",
    "                    if id_coord in p_boca:\n",
    "                        coord_cv = mp_drawing._normalized_to_pixel_coordinates(coord_xyz.x,\n",
    "                        coord_xyz.y, largura, comprimento)\n",
    "                        cv2.circle(frame, coord_cv, 2, (255,0,0), -1)\n",
    "                \n",
    "                ear = calculo_ear(face, p_olho_dir, p_olho_esq)\n",
    "                cv2.rectangle(frame, (0,1),(290,140),(58,58,55),-1)\n",
    "                cv2.putText(frame, f\"EAR: {round(ear, 2)}\", (1, 24),\n",
    "                            cv2.FONT_HERSHEY_DUPLEX,\n",
    "                            0.9, (255, 255, 255), 2)\n",
    "                \n",
    "                mar = calculo_mar(face,p_boca)\n",
    "                cv2.putText(frame, f\"MAR: {round(mar, 2)} {'Aberto' if mar>=mar_limiar else 'Fechado'}\", (1, 50),\n",
    "                            cv2.FONT_HERSHEY_DUPLEX,\n",
    "                            0.9, (255, 255, 255), 2)\n",
    "                \n",
    "                if ear < ear_limiar and mar < mar_limiar:\n",
    "                    t_inicial = time.time() if dormindo == 0 else t_inicial\n",
    "                    contagem_piscadas = contagem_piscadas + 1 if dormindo == 0 else contagem_piscadas\n",
    "                    dormindo = 1\n",
    "                if (dormindo == 1 and ear > ear_limiar) or (ear <= ear_limiar and mar >= mar_limiar):\n",
    "                    dormindo = 0\n",
    "                t_final = time.time()\n",
    "                tempo_decorrido = t_final - t_piscadas\n",
    "                if tempo_decorrido >= (c_tempo +1 ):\n",
    "                    c_tempo = tempo_decorrido\n",
    "                    piscadas_ps = contagem_piscadas-contagem_temporaria\n",
    "                    contagem_temporaria = contagem_piscadas\n",
    "                    contangem_lista.append(piscadas_ps)\n",
    "                    contangem_lista = contangem_lista if (len(contangem_lista)<=60) else contangem_lista[-60:]\n",
    "                    piscadadas_pm = 15 if tempo_decorrido<=60 else sum(contangem_lista)\n",
    "\n",
    "                cv2.putText(frame, f\"Piscadas: {contagem_piscadas}\", (1,120),\n",
    "                            cv2.FONT_HERSHEY_DUPLEX,\n",
    "                            0.9, (109,233,219), 2)\n",
    "                tempo = (t_final-t_inicial) if dormindo == 1 else 0.0\n",
    "                cv2.putText(frame, f\"Tempo: {round(tempo, 3)}\", (1,80),\n",
    "                            cv2.FONT_HERSHEY_DUPLEX,\n",
    "                            0.9, (255,255,255), 2)\n",
    "                \n",
    "                if piscadadas_pm < 10 or tempo>=1.5:\n",
    "                    cv2.rectangle(frame, (30, 400), (610, 452), (109, 233, 219), -1)\n",
    "                    cv2.putText(frame, f\"Pode ser quer voce esteja com sona,\", (60, 420),\n",
    "                                cv2.FONT_HERSHEY_DUPLEX,\n",
    "                                0.85, (58,58,55), 1)\n",
    "                    cv2.putText(frame, f\"considere descansar.\", (180, 450),\n",
    "                                cv2.FONT_HERSHEY_DUPLEX,\n",
    "                                0.85, (58,58,55), 1)\n",
    "        except:\n",
    "            pass\n",
    "\n",
    "        cv2.imshow('Camera', frame)\n",
    "        if cv2.waitKey(10) & 0xFF ==ord('c'):\n",
    "            break\n",
    "cap.release()\n",
    "cv2.destroyAllWindows()\n"
   ]
  },
  {
   "cell_type": "code",
   "execution_count": null,
   "metadata": {},
   "outputs": [],
   "source": [
    "for face_landmarks in saida_facemesh.multi_face_landmarks: # As Coordenadas totatalizam 468, sendo enumradas e 0 a 467.\n",
    "    face = face_landmarks\n",
    "    for id_coord, coord_xyz in enumerate(face.landmark):\n",
    "        print(id_coord)"
   ]
  },
  {
   "cell_type": "markdown",
   "metadata": {},
   "source": [
    "Referências:\n",
    "\n",
    "[1] Soukupová T., Čech J., Real-Time Eye Blink Detection using Facial Landmarks, 2016."
   ]
  }
 ],
 "metadata": {
  "kernelspec": {
   "display_name": "reviva",
   "language": "python",
   "name": "python3"
  },
  "language_info": {
   "codemirror_mode": {
    "name": "ipython",
    "version": 3
   },
   "file_extension": ".py",
   "mimetype": "text/x-python",
   "name": "python",
   "nbconvert_exporter": "python",
   "pygments_lexer": "ipython3",
   "version": "3.9.20"
  }
 },
 "nbformat": 4,
 "nbformat_minor": 2
}
